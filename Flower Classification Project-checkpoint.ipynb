{
 "cells": [
  {
   "cell_type": "markdown",
   "id": "7dedbd63-8258-403f-a075-59e735a2a32f",
   "metadata": {},
   "source": [
    "# Importing Libraries"
   ]
  },
  {
   "cell_type": "code",
   "execution_count": 2,
   "id": "05f4aa90-c807-4515-a154-09c1a2f6f43a",
   "metadata": {},
   "outputs": [],
   "source": [
    "import os\n",
    "import numpy as np\n",
    "import tensorflow as tf\n",
    "from tensorflow.keras import layers\n",
    "from tensorflow.keras.preprocessing.image import load_img,ImageDataGenerator\n",
    "from tensorflow.keras.models import Sequential, load_model\n",
    "from tensorflow.keras.layers import Conv2D, MaxPool2D,Dense,Dropout , Flatten"
   ]
  },
  {
   "cell_type": "code",
   "execution_count": 3,
   "id": "637c17e3-003b-4895-a3ce-3a74e0ab6043",
   "metadata": {},
   "outputs": [],
   "source": [
    "# Fetch Imeges count from Folders"
   ]
  },
  {
   "cell_type": "code",
   "execution_count": null,
   "id": "9ca99ed8-bd37-495a-a909-0f929a63d830",
   "metadata": {},
   "outputs": [],
   "source": [
    "dirs = os.listdir('Imeges')"
   ]
  },
  {
   "cell_type": "code",
   "execution_count": null,
   "id": "b2695046-62b3-4c85-85bb-4e1ccaa92e65",
   "metadata": {},
   "outputs": [],
   "source": []
  }
 ],
 "metadata": {
  "kernelspec": {
   "display_name": "Python 3 (ipykernel)",
   "language": "python",
   "name": "python3"
  },
  "language_info": {
   "codemirror_mode": {
    "name": "ipython",
    "version": 3
   },
   "file_extension": ".py",
   "mimetype": "text/x-python",
   "name": "python",
   "nbconvert_exporter": "python",
   "pygments_lexer": "ipython3",
   "version": "3.9.7"
  }
 },
 "nbformat": 4,
 "nbformat_minor": 5
}
